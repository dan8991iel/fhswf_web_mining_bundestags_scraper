{
 "cells": [
  {
   "cell_type": "code",
   "execution_count": 1,
   "id": "df7c9a3e",
   "metadata": {
    "ExecuteTime": {
     "end_time": "2025-08-10T18:23:33.406615Z",
     "start_time": "2025-08-10T18:23:29.501099Z"
    }
   },
   "outputs": [
    {
     "name": "stderr",
     "output_type": "stream",
     "text": [
      "/Users/hxx/Library/CloudStorage/OneDrive-Persönlich/Dokumente/Master/2. Semester/Web Mining/web_mining_lm/pythonProject1/.venv/lib/python3.9/site-packages/urllib3/__init__.py:35: NotOpenSSLWarning: urllib3 v2 only supports OpenSSL 1.1.1+, currently the 'ssl' module is compiled with 'LibreSSL 2.8.3'. See: https://github.com/urllib3/urllib3/issues/3020\n",
      "  warnings.warn(\n",
      "/Users/hxx/Library/CloudStorage/OneDrive-Persönlich/Dokumente/Master/2. Semester/Web Mining/web_mining_lm/pythonProject1/.venv/lib/python3.9/site-packages/tqdm/auto.py:21: TqdmWarning: IProgress not found. Please update jupyter and ipywidgets. See https://ipywidgets.readthedocs.io/en/stable/user_install.html\n",
      "  from .autonotebook import tqdm as notebook_tqdm\n"
     ]
    }
   ],
   "source": [
    "# Basis-Setup für Datenanalyse und Embedding\n",
    "import json\n",
    "import pandas as pd\n",
    "import numpy as np\n",
    "import re\n",
    "from typing import List, Dict\n",
    "from sentence_transformers import SentenceTransformer\n",
    "from sklearn.metrics.pairwise import cosine_similarity\n",
    "import matplotlib.pyplot as plt\n",
    "import warnings\n",
    "import tiktoken\n",
    "from transformers import AutoTokenizer, AutoModelForSequenceClassification\n",
    "import torch\n",
    "# Import der Funktionen aus text_to_dqr.py\n",
    "from text_to_dqr import text_to_dqr, system_prompt\n",
    "from utils import count_tokens\n",
    "\n",
    "\n",
    "warnings.filterwarnings(\"ignore\")"
   ]
  },
  {
   "cell_type": "code",
   "execution_count": 2,
   "id": "79baf904451303dd",
   "metadata": {
    "ExecuteTime": {
     "end_time": "2025-08-10T18:23:33.488652Z",
     "start_time": "2025-08-10T18:23:33.485988Z"
    }
   },
   "outputs": [
    {
     "name": "stdout",
     "output_type": "stream",
     "text": [
      "\n",
      "    Du bekommst kurze biographische Texte von Politikern. Diese sind aus Wikipedia-Artikeln extrahiert.\n",
      "    Deine Aufgabe ist es, aus dem Text den höchsten erreichten Bildungsabschluss nach dem Deutschen Qualifikationsrahmen (DQR) zu erkennen und zurückzugeben.\n",
      "    \n",
      "    AUSGABEFORMAT (streng!):\n",
      "    - Entweder exakt: DQR-Niveau; Sehr kurzer Kommentar zum höchsten Bildungsabschluss; Confidence\n",
      "      Beispiele:\n",
      "      8; Dr. der Wirtschaftspsychologie; 5\n",
      "      7; Volljurist mit 2. Staatsexamen; 4\n",
      "    - ODER (nur wenn keinerlei bildungsrelevante Information in ALLEN Abschnitten vorhanden ist):\n",
      "      0; Keine Angabe zum Bildungsabschluss (vermutlich falsches Retrieval); -\n",
      "    \n",
      "    Hinweis zum Kommentar:\n",
      "    - Der Kommentar bleibt sehr kurz. Für 0-Fälle gib einen knappen Grund an (z. B. „vermutlich falsches Retrieval“ oder „explizit: ohne Abschluss/Abbruch“).\n",
      "    \n",
      "    Confidence-Score (Definition):\n",
      "    C=5 (sehr sicher): Explizite Nennung des Abschlusses/Grades/Titels (z. B. „2. Staatsexamen“, „Diplom (FH)“, „Diplom-Kaufmann (Univ.)“, „Dr. …“), oder rechtlich geschützter Status, der zwingend den Abschluss voraussetzt (z. B. zugelassener Rechtsanwalt).\n",
      "    C=4 (sicher): Starke implizite Evidenz mit geschützten Amts-/Laufbahntiteln (z. B. „Assessor des Lehramts“, „Studienrat“, „Höherer Dienst“, „Approbation“ in Heilberufen).\n",
      "    C=3 (plausibel): Gute implizite Evidenz über typische Qualifikationswege/Laufbahnen oder historische Gleichstellungen (z. B. „Gehobener Dienst“ ⇒ FH-Diplom/Bachelor ~ DQR 6; „Technische Hochschule (TH)“ historisch uniäquivalent ⇒ DQR 7; „Ingenieurschule (grad. Ing.)“ ⇒ DQR 6).\n",
      "    C=2 (vorsichtig): Schwache implizite Evidenz, aber mindestens ein klares Bildungssignal vorhanden (z. B. „Lehrerin“ ohne Prüfungsnennung; „Diplom“ ohne Kontext; Berufsbezeichnung mit typischer Qualifikation). Nutze C=2 nur, wenn „0; Keine Angabe …; -“ nicht zutrifft und eine konservative Einordnung möglich ist.\n",
      "    C=1 (vage Annahme): Nicht zulässig. Wenn deine Begründung nur C=1 tragen würde:\n",
      "      – bei expliziten Abbrüchen/„ohne Abschluss“ ⇒ gib 0; …; 5\n",
      "      – sonst ⇒ gib 0; Keine Angabe zum Bildungsabschluss (vermutlich falsches Retrieval); -\n",
      "    \n",
      "    Nutze nur die offiziellen DQR-Stufen von 1 bis 8. Die Zuordnung der jeweiligen Abschlüsse zu den Niveaus kannst du der folgenden Liste entnehmen. Wenn der gefundene Abschluss nicht darin enthalten ist, dann entscheide, welchem dieser Abschlüsse er am nächsten kommt und kategorisiere dementsprechend (konservative Annahme).\n",
      "    \n",
      "    Niveau 1:\n",
      "    Berufsausbildungsvorbereitung\n",
      "      Berufsvorbereitende Bildungsmaßnahmen der Arbeitsagentur (BvB, BvB-Reha)\n",
      "      Berufsvorbereitungsjahr (BVJ)\n",
      "    \n",
      "    Niveau 2:\n",
      "    Berufsausbildungsvorbereitung\n",
      "      Berufsvorbereitende Bildungsmaßnahmen der Arbeitsagentur (BvB, BvB-Reha)\n",
      "      Berufsvorbereitungsjahr (BVJ)\n",
      "      Einstiegsqualifizierung (EQ)\n",
      "    Berufsfachschule (Berufliche Grundbildung)\n",
      "    Erster Schulabschluss (ESA)/Hauptschulabschluss (HSA)\n",
      "    \n",
      "    Niveau 3:\n",
      "    Duale Berufsausbildung (2-jährige Ausbildungen)\n",
      "    Berufsfachschule (Mittlerer Schulabschluss)\n",
      "    Mittlerer Schulabschluss (MSA, „mittlere Reife“)\n",
      "    \n",
      "    Niveau 4:\n",
      "    Duale Berufsausbildung (3- und 3 ½-jährige Ausbildungen)\n",
      "    Berufsfachschule (Assistentenberufe)\n",
      "    Berufsfachschule (vollqualifizierende Berufsausbildung)\n",
      "    Berufsfachschule (Landesrechtlich geregelte Berufsausbildungen)\n",
      "    Berufsfachschule (Bundesrechtliche Ausbildungsregelungen für Berufe im Gesundheitswesen und in der Altenpflege)\n",
      "    Fachhochschulreife (FHR)\n",
      "    Fachgebundene Hochschulreife (FgbHR)\n",
      "    Allgemeine Hochschulreife (AHR, „Abitur“)\n",
      "    Berufliche Ausbildung („Kaufmann/Kauffrau“)\n",
      "    Berufliche Umschulung nach BBiG (Niveau 4)\n",
      "      Fachkraft Bodenverkehrsdienst im Luftverkehr (Geprüfte)\n",
      "    Berufliche Ausbildung („Kaufmann/Kauffrau“)\n",
      "      Fachhochschulreife (FHR), fachgebundene Hochschulreife, allgemeine Hochschulreife (Abitur)\n",
      "    \n",
      "    Niveau 5:\n",
      "    IT-Spezialist (Zertifizierter)*\n",
      "    Servicetechniker (Geprüfter)*\n",
      "    Sonstige berufliche Fortbildungsqualifikationen nach § 53 BBiG bzw. § 42 a HwO (Niveau 5)\n",
      "    Berufliche Fortbildungsqualifikationen nach § 54 BBiG bzw. § 42 a HwO (Niveau 5)\n",
      "    \n",
      "    Niveau 6:\n",
      "    Bachelor\n",
      "    Fachkaufmann (Geprüfter)*\n",
      "    Fachschule (Staatlich Geprüfter …)\n",
      "    Fachschule (Landesrechtlich geregelte Weiterbildungen)\n",
      "    Fachwirt (Geprüfter)*\n",
      "    Meister (Geprüfter)*\n",
      "    Operativer Professional (IT) (Geprüfter)*\n",
      "    Sonstige berufliche Fortbildungsqualifikationen nach § 53 BBiG bzw. § 42 a HwO (Niveau 6)\n",
      "    Berufliche Fortbildungsqualifikationen nach § 54 BBiG bzw. § 42 a HwO (Niveau 6)\n",
      "    Erstes Staatsexamen/Lehrprüfung (z. B. Jura, Lehramt): DQR-Niveau 6\n",
      "    Diplom (Fachhochschule, z. B. „Diplom-Ingenieur (FH)“) ohne Zusatz „Universität“: DQR-Niveau 6\n",
      "    Bakkalaureus/Bachelor jeder Art: DQR-Niveau 6\n",
      "    Fachwirt (Geprüfter), Meister, Techniker oder „Geprüfter Fachkaufmann/-frau“: DQR-Niveau 6\n",
      "    \n",
      "    Niveau 7:\n",
      "    Master\n",
      "    Strategischer Professional (IT) (Geprüfter)*\n",
      "    Zweites Staatsexamen/Lehrprüfung\n",
      "    Sonstige berufliche Fortbildungsqualifikationen nach § 53 BBiG bzw. § 42 a HwO (Niveau 7)\n",
      "      Berufspädagoge (Geprüfter)\n",
      "      Betriebswirt nach dem Berufsbildungsgesetz (Geprüfter)\n",
      "      Betriebswirt nach der Handwerksordnung (Geprüfter)\n",
      "      Technischer Betriebswirt (Geprüfter)\n",
      "    Zweites Staatsexamen („Volljurist“): DQR-Niveau 7 (Wenn jemand als Rechtsanwalt zugelassen ist, muss er ein zweites Staatsexamen haben)\n",
      "    Diplom (Universität): Immer wie Master einstufen – DQR-Niveau 7. Z. B. Diplom-Ingenieur (Univ.), Diplom-Kaufmann, Diplom-Volkswirt (Universität)\n",
      "    Magister Artium (M.A.), Master jeden Typs: DQR-Niveau 7\n",
      "    Geprüfter Betriebswirt (nach HwO/BBiG) und gleichgestellte berufliche Fortbildungsabschlüsse auf diesem Niveau: DQR-Niveau 7\n",
      "    \n",
      "    Niveau 8:\n",
      "    Promotion\n",
      "    Doktorat und äquivalente künstlerische Abschlüsse\n",
      "    (Ehrendoktorat zählt NICHT)\n",
      "    \n",
      "    Zusätzliche Entscheidungsregeln:\n",
      "    \n",
      "    1) Datenlage & Retrieval:\n",
      "    - Du erhältst die Top-5 Abschnitte mit höchster Korrelation zur „Bildungs“-Query; sie sind ohne Reihenfolge konkateniert.\n",
      "    - Prüfe ALLE Abschnitte auf Abschlussbegriffe und Synonyme. Bei Widersprüchen zählt der höchste belastbare Abschluss.\n",
      "    - Falls in irgendeinem Abschnitt ein Doktortitel steht, klassifiziere als 8 – auch wenn der Abschnitt evtl. „falsch“ zugeordnet ist (wie beschrieben).\n",
      "    - Wenn in KEINEM Abschnitt irgendein bildungsrelevanter Hinweis vorkommt (keine Schule, kein Abschluss, keine Ausbildung, keine Titel/Grade, keine berufsrechtlichen Laufbahnen), dann gib: 0; Keine Angabe zum Bildungsabschluss (vermutlich falsches Retrieval); -\n",
      "    - Wenn mindestens ein Teilabschnitt erkennbar korrekt ist (z. B. beginnt mit Familie → Schule), entscheide auf Basis der vorhandenen Informationen; sind Angaben unvollständig, klassifiziere konservativ.\n",
      "    \n",
      "    2) Abschluss als „explizit“ vs. „implizit“:\n",
      "    - EXPLIZIT: Abschluss/Grad/Titel wird genannt (z. B. „Diplom-Betriebswirt (FH)“, „2. Staatsexamen“, „Dr. rer. nat.“) → C=5.\n",
      "    - IMPLIZIT (zulässig, konservativ): Stark belegte Hinweise, die die Qualifikation erzwingen (z. B. „zugelassener Rechtsanwalt“ ⇒ 2. StEx; „Assessor des Lehramts/Studienrat“ ⇒ 2. Lehramtsprüfung; „gehobener Dienst (Beamter)“ ⇒ FH-Diplom/Bachelor) → C=3–4.\n",
      "    - KEINE ANNAHME: Alter/Epoche oder bloße Beschäftigung („war Lehrerin/Lehrer“) reichen NICHT für 2. Examen. Nur Lehramtsstudium ⇒ 6 (falls kein Abbruch).\n",
      "    \n",
      "    3) Zeit-/Begriffslogik (Bologna & Historik; Beispiele):\n",
      "    - „Diplom (FH)“ ⇒ 6.\n",
      "    - „Diplom“ ohne Zusatz:\n",
      "      • Wenn „Universität/Technische Hochschule (TU/TH)“ genannt ist ⇒ 7.\n",
      "      • Wenn nichts genannt ist: konservativ nach Kontext. Tendenz: Uni-Diplom ⇒ 7, FH-Diplom ⇒ 6. Ohne Hinweise: 6 (als konservative Annahme, C=2).\n",
      "    - „Magister Artium (M.A.)“ ⇒ 7.\n",
      "    - „Technische Hochschule“ (historisch universitäres Niveau) ⇒ 7.\n",
      "    - „Ingenieurschule“ (historisch, grad. Ing.) ⇒ 6 (Annahme).\n",
      "    - Lehramt:\n",
      "      • „Assessor des Lehramts“, „2. Staatsprüfung“, „Referendariat abgeschlossen“, „Studienrat/Oberstudienrat/Schulbeamter (verbeamtet)“ ⇒ 7 (implizit zulässig).\n",
      "      • Nur „Lehramtsstudium“ ⇒ 6 (falls kein Abbruch).\n",
      "    - Staatsexamen Medizin/Pharmazie/Zahnmedizin ⇒ 7.\n",
      "    - Jura:\n",
      "      • „Erstes Staatsexamen“ ⇒ 6.\n",
      "      • „Volljurist/zugelassener Rechtsanwalt/Richter/Staatsanwalt/Assessor jur.“ ⇒ 7.\n",
      "    - Berufsbildung:\n",
      "      • „Gesellenprüfung/Abschluss duale Ausbildung (3–3,5 J.)“ ⇒ 4.\n",
      "      • „Meister/Techniker/Fachwirt/Gepr. Fachkaufmann/-frau“ ⇒ 6.\n",
      "      • „Gepr. Betriebswirt (HwO/BBiG)“ ⇒ 7.\n",
      "      • „VWA-Abschlüsse“ ⇒ 6 (nächstliegend zu Fachwirt/Techniker).\n",
      "    - Öffentlicher Dienst (Laufbahnen):\n",
      "      • „mittlerer Dienst“ ⇒ mind. 4 (Annahme).\n",
      "      • „gehobener Dienst“ ⇒ 6 (Annahme).\n",
      "      • „höherer Dienst“ ⇒ 7 (Annahme).\n",
      "    - Schulabschlüsse:\n",
      "      • AHR/FHR/FgbHR ⇒ 4; MSA ⇒ 3; ESA/HSA ⇒ 2.\n",
      "      • „Schulpflicht erfüllt“/„Gymnasium ohne Abschluss verlassen“ ⇒ kein Schulabschluss.\n",
      "    \n",
      "    - Abbrüche:\n",
      "      • Sofern nicht ausdrücklich „abgebrochen/ohne Abschluss“, gehe von Abschluss aus.\n",
      "      • Wenn „ohne Abschluss/abgebrochen“ explizit genannt ⇒ stufe entsprechend niedriger ein oder 0 (wenn gar kein Abschluss vorliegt). Für 0-Fälle mit explizitem Abbruch: Confidence = 5.\n",
      "    \n",
      "    4) Wenn kein Bildungsabschluss erkennbar ist:\n",
      "    - Nutze: 0; Keine Angabe zum Bildungsabschluss (vermutlich falsches Retrieval); -\n",
      "    \n",
      "    5) Prüfe deine Antwort vor Ausgabe auf:\n",
      "    - Genau zwei Semikolons: „Zahl; Kommentar; Confidence“.\n",
      "    - DQR-Zahl ∈ {0,…,8}. Keine weiteren Zeichen/Zeilen.\n",
      "    - Kommentar kurz. Confidence ∈ {2,3,4,5} oder „-“ (nur beim 0-Fall ohne Signale).\n",
      "    \n"
     ]
    }
   ],
   "source": [
    "print(system_prompt)"
   ]
  },
  {
   "cell_type": "code",
   "execution_count": 3,
   "id": "417427a5",
   "metadata": {
    "ExecuteTime": {
     "end_time": "2025-08-10T18:23:33.506846Z",
     "start_time": "2025-08-10T18:23:33.496355Z"
    }
   },
   "outputs": [
    {
     "name": "stdout",
     "output_type": "stream",
     "text": [
      "Anzahl geladener Politiker: 165\n"
     ]
    }
   ],
   "source": [
    "def load_json(path='testdata/filtered_minister_with_content.json'):\n",
    "    \"\"\"Lädt JSON-Daten der Politiker-Biografien\"\"\"\n",
    "    with open(path, 'r', encoding='utf-8') as f:\n",
    "        data = json.load(f)\n",
    "\n",
    "    print(f\"Anzahl geladener Politiker: {len(data)}\")\n",
    "    return data\n",
    "\n",
    "# Beispiel ausführen\n",
    "data = load_json()"
   ]
  },
  {
   "cell_type": "code",
   "execution_count": 4,
   "id": "a9473086",
   "metadata": {
    "ExecuteTime": {
     "end_time": "2025-08-10T18:23:33.528385Z",
     "start_time": "2025-08-10T18:23:33.525239Z"
    }
   },
   "outputs": [
    {
     "name": "stdout",
     "output_type": "stream",
     "text": [
      "Gesamtanzahl Abschnitte: 2\n",
      "[{'politician_name': 'Christian Schmidt', 'content_id': '33e433f7bd723c61061b7277e0f47cc554cd76c3', 'section_content': '1981 wechselte Schmidt zur Grün-Alternativen Liste (GAL).\\nEr gehörte dem Bundestag in der 10. Legislaturperiode an und war unter anderem Sprecher der grünen Bundestagsfraktion. Allerdings war das Bundeshaus auf Rollstuhlfahrer nicht eingerichtet. Schmidt konnte nicht vor dem Rednerpult sprechen, weil das nicht verstellbar war. Seine Reden konnten nicht, wie üblich, vom Hauskanal übertragen werden, weil die dazugehörende Kamera fest auf das Pult ausgerichtet war. Zusammen mit Jutta Ditfurth und Regina Michalik trat Christian Schmidt im Dezember 1988 als Sprecher der grünen Bundespartei zurück. Grund dafür war die fehlende Unterstützung der Bundesversammlung auf dem außerordentlichen Parteitag in Karlsruhe. Zwei Jahre später verließ er die Partei.'}, {'politician_name': 'Christian Schmidt', 'content_id': '4ed89e8199e32030ab23f20e92635e9d0357847b', 'section_content': 'Schmidt, der durch einen Sportunfall auf einen Rollstuhl angewiesen war, trat 1965 in die SPD ein. Er zählte zur inoffiziellen Linksfraktion innerhalb der Hamburger SPD und galt als einer der strategischen Köpfe. Als Kandidat der Jungsozialisten wurde er mit einem Drittel der Stimmen in den erweiterten Landesvorstand gewählt. Auf diesem Parteitag hatte es scharfe Auseinandersetzungen zwischen „Rechts“ und „Links“ gegeben. Er war unter anderem Vorsitzender der Kommission Ausländerpolitik und im Landesvorstand für den Bereich „politische Bildung“ zuständig.[2] 1981 trat Schmidt aus der SPD aus. Der eher dem rechten Flügel der Partei zugerechnete SPD-Landesvorsitzende Oswald Paulig bedauerte den Austritt und würdigte die menschlichen Qualitäten von Schmidt.'}]\n"
     ]
    }
   ],
   "source": [
    "def extract_content_sections(person):\n",
    "    \"\"\"Extrahiert alle Content-Abschnitte von einem Politiker\"\"\"\n",
    "    all_sections = []  \n",
    "\n",
    "    for content in person.get('neo4j_content', []):\n",
    "        all_sections.append({\n",
    "            'politician_name': f\"{person['Vorname']} {person['Nachname']}\",\n",
    "            'content_id': content['content_id'],\n",
    "            'section_content': content['section_content']\n",
    "        })\n",
    "\n",
    "    print(f\"Gesamtanzahl Abschnitte: {len(all_sections)}\")\n",
    "    return all_sections\n",
    "\n",
    "# Beispiel ausführen\n",
    "person = next(item for item in data if item[\"ID\"] == \"#091\")\n",
    "\n",
    "example_sections = extract_content_sections(person)\n",
    "print(example_sections)"
   ]
  },
  {
   "cell_type": "code",
   "execution_count": 5,
   "id": "9e76b404",
   "metadata": {
    "ExecuteTime": {
     "end_time": "2025-08-10T18:23:33.639427Z",
     "start_time": "2025-08-10T18:23:33.553878Z"
    }
   },
   "outputs": [
    {
     "name": "stdout",
     "output_type": "stream",
     "text": [
      "Original: 2 Sections\n",
      "Nach Chunking: 2 Sections\n",
      "[{'politician_name': 'Christian Schmidt', 'content_id': '33e433f7bd723c61061b7277e0f47cc554cd76c3', 'section_content': '1981 wechselte Schmidt zur Grün-Alternativen Liste (GAL).\\nEr gehörte dem Bundestag in der 10. Legislaturperiode an und war unter anderem Sprecher der grünen Bundestagsfraktion. Allerdings war das Bundeshaus auf Rollstuhlfahrer nicht eingerichtet. Schmidt konnte nicht vor dem Rednerpult sprechen, weil das nicht verstellbar war. Seine Reden konnten nicht, wie üblich, vom Hauskanal übertragen werden, weil die dazugehörende Kamera fest auf das Pult ausgerichtet war. Zusammen mit Jutta Ditfurth und Regina Michalik trat Christian Schmidt im Dezember 1988 als Sprecher der grünen Bundespartei zurück. Grund dafür war die fehlende Unterstützung der Bundesversammlung auf dem außerordentlichen Parteitag in Karlsruhe. Zwei Jahre später verließ er die Partei.'}, {'politician_name': 'Christian Schmidt', 'content_id': '4ed89e8199e32030ab23f20e92635e9d0357847b', 'section_content': 'Schmidt, der durch einen Sportunfall auf einen Rollstuhl angewiesen war, trat 1965 in die SPD ein. Er zählte zur inoffiziellen Linksfraktion innerhalb der Hamburger SPD und galt als einer der strategischen Köpfe. Als Kandidat der Jungsozialisten wurde er mit einem Drittel der Stimmen in den erweiterten Landesvorstand gewählt. Auf diesem Parteitag hatte es scharfe Auseinandersetzungen zwischen „Rechts“ und „Links“ gegeben. Er war unter anderem Vorsitzender der Kommission Ausländerpolitik und im Landesvorstand für den Bereich „politische Bildung“ zuständig.[2] 1981 trat Schmidt aus der SPD aus. Der eher dem rechten Flügel der Partei zugerechnete SPD-Landesvorsitzende Oswald Paulig bedauerte den Austritt und würdigte die menschlichen Qualitäten von Schmidt.'}]\n"
     ]
    }
   ],
   "source": [
    "def chunk_content_sections(sections, max_tokens=1000, overlap_tokens=200):\n",
    "    \"\"\"Chunkt Content-Sections die zu lang sind mit Overlap\"\"\"\n",
    "    chunked_sections = []\n",
    "    \n",
    "    for section in sections:\n",
    "        content = section['section_content']\n",
    "        token_count = count_tokens(content)\n",
    "        \n",
    "        if token_count <= max_tokens:\n",
    "            # Section ist kurz genug - einfach übernehmen\n",
    "            chunked_sections.append(section)\n",
    "        else:\n",
    "            # Section ist zu lang - aufteilen\n",
    "            words = content.split()\n",
    "            current_chunk = []\n",
    "            current_tokens = 0\n",
    "            chunk_counter = 0\n",
    "            \n",
    "            for word in words:\n",
    "                word_tokens = count_tokens(word + \" \")\n",
    "                current_chunk.append(word)\n",
    "                current_tokens += word_tokens\n",
    "                \n",
    "                if current_tokens >= max_tokens:\n",
    "                    # Chunk ist voll - speichern\n",
    "                    chunk_text = \" \".join(current_chunk)\n",
    "                    chunked_sections.append({\n",
    "                        'politician_name': section['politician_name'],\n",
    "                        'content_id': f\"#{chunk_counter:02d}_{section['content_id']}\",\n",
    "                        'section_content': chunk_text\n",
    "                    })\n",
    "                    \n",
    "                    # Overlap für nächsten Chunk vorbereiten\n",
    "                    overlap_words = []\n",
    "                    overlap_tokens_count = 0\n",
    "                    for word in reversed(current_chunk):\n",
    "                        word_tokens = count_tokens(word + \" \")\n",
    "                        if overlap_tokens_count + word_tokens <= overlap_tokens:\n",
    "                            overlap_words.insert(0, word)\n",
    "                            overlap_tokens_count += word_tokens\n",
    "                        else:\n",
    "                            break\n",
    "                    \n",
    "                    current_chunk = overlap_words\n",
    "                    current_tokens = overlap_tokens_count\n",
    "                    chunk_counter += 1\n",
    "            \n",
    "            # Letzten Chunk hinzufügen falls noch Inhalt vorhanden\n",
    "            if current_chunk:\n",
    "                chunk_text = \" \".join(current_chunk)\n",
    "                chunked_sections.append({\n",
    "                    'politician_name': section['politician_name'],\n",
    "                    'content_id': f\"#{chunk_counter:02d}_{section['content_id']}\",\n",
    "                    'section_content': chunk_text\n",
    "                })\n",
    "    \n",
    "    return chunked_sections\n",
    "\n",
    "# Nach extract_content_sections\n",
    "chunked_sections = chunk_content_sections(example_sections)\n",
    "print(f\"Original: {len(example_sections)} Sections\")\n",
    "print(f\"Nach Chunking: {len(chunked_sections)} Sections\")\n",
    "print(chunked_sections)"
   ]
  },
  {
   "cell_type": "code",
   "execution_count": 6,
   "id": "5c76c961",
   "metadata": {
    "ExecuteTime": {
     "end_time": "2025-08-10T18:23:37.797130Z",
     "start_time": "2025-08-10T18:23:33.646989Z"
    }
   },
   "outputs": [
    {
     "name": "stdout",
     "output_type": "stream",
     "text": [
      "Modell geladen: SentenceTransformer(\n",
      "  (0): Transformer({'max_seq_length': 1024, 'do_lower_case': False, 'architecture': 'Qwen3Model'})\n",
      "  (1): Pooling({'word_embedding_dimension': 1024, 'pooling_mode_cls_token': False, 'pooling_mode_mean_tokens': False, 'pooling_mode_max_tokens': False, 'pooling_mode_mean_sqrt_len_tokens': False, 'pooling_mode_weightedmean_tokens': False, 'pooling_mode_lasttoken': True, 'include_prompt': True})\n",
      "  (2): Normalize()\n",
      ")\n"
     ]
    }
   ],
   "source": [
    "device = \"cpu\"\n",
    "model = SentenceTransformer(\n",
    "    \"Qwen/Qwen3-Embedding-0.6B\",\n",
    "    trust_remote_code=True,\n",
    "    device=device\n",
    ")\n",
    "\n",
    "# HARTE KAPPUNG gegen 32k\n",
    "model.max_seq_length = 1024\n",
    "model.tokenizer.model_max_length = 1024\n",
    "print(f\"Modell geladen: {model}\")\n",
    "\n",
    "def embed_sections(sections, model, batch_size=16):\n",
    "    \"\"\"Erstellt Embeddings für Abschnittstexte mit dem gewählten Modell\"\"\"\n",
    "\n",
    "    texts = [section['section_content'] for section in sections]\n",
    "    embeddings = model.encode(texts, show_progress_bar=True, convert_to_tensor=False, batch_size=batch_size)\n",
    "\n",
    "    return np.array(embeddings)"
   ]
  },
  {
   "cell_type": "code",
   "execution_count": 7,
   "id": "db4e042b4443d1b0",
   "metadata": {
    "ExecuteTime": {
     "end_time": "2025-08-10T18:23:38.498555Z",
     "start_time": "2025-08-10T18:23:37.813549Z"
    }
   },
   "outputs": [
    {
     "name": "stderr",
     "output_type": "stream",
     "text": [
      "Batches: 100%|██████████| 1/1 [00:00<00:00,  1.00it/s]\n"
     ]
    }
   ],
   "source": [
    "section_embeddings = embed_sections(chunked_sections, model)"
   ]
  },
  {
   "cell_type": "code",
   "execution_count": 8,
   "id": "44107408",
   "metadata": {
    "ExecuteTime": {
     "end_time": "2025-08-10T18:23:38.649654Z",
     "start_time": "2025-08-10T18:23:38.509189Z"
    }
   },
   "outputs": [],
   "source": [
    "education_queries = [\n",
    "    \"Hat die Person studiert? Welche Schule hat sie besucht? Was ist über ihren Bildungsweg bekannt? Welchen Beruf hat die Person vorher ausgeübt? Hat die Person eine Ausbildung gemacht?\"\n",
    "]\n",
    "\n",
    "# Queries einbetten\n",
    "query_embedding = model.encode(education_queries)"
   ]
  },
  {
   "cell_type": "code",
   "execution_count": 9,
   "id": "f6cc23d1",
   "metadata": {
    "ExecuteTime": {
     "end_time": "2025-08-10T18:23:38.659874Z",
     "start_time": "2025-08-10T18:23:38.656823Z"
    }
   },
   "outputs": [],
   "source": [
    "# Funktion zum Finden der Top-K ähnlichsten Abschnitte\n",
    "def find_top_k_sections(query_embedding, section_embeddings, all_sections, top_k=5):\n",
    "    \"\"\"Findet die ähnlichsten Content-Abschnitte für eine Query\"\"\"\n",
    "    similarities = cosine_similarity(query_embedding, section_embeddings)[0]\n",
    "    \n",
    "    # Top-k Indizes finden\n",
    "    top_indices = np.argsort(similarities)[::-1][:top_k]\n",
    "    \n",
    "    results = []\n",
    "    for idx in top_indices:\n",
    "        results.append({\n",
    "            'section': all_sections[idx],  # Hier ist der Fehler - 'section' fehlt\n",
    "            'similarity': similarities[idx],\n",
    "            'content_preview': all_sections[idx]['section_content'][:300] + \"...\"\n",
    "        })\n",
    "    \n",
    "    return results"
   ]
  },
  {
   "cell_type": "code",
   "execution_count": 10,
   "id": "10a5ebd8",
   "metadata": {
    "ExecuteTime": {
     "end_time": "2025-08-10T18:23:38.678889Z",
     "start_time": "2025-08-10T18:23:38.666448Z"
    }
   },
   "outputs": [
    {
     "data": {
      "text/html": [
       "<div>\n",
       "<style scoped>\n",
       "    .dataframe tbody tr th:only-of-type {\n",
       "        vertical-align: middle;\n",
       "    }\n",
       "\n",
       "    .dataframe tbody tr th {\n",
       "        vertical-align: top;\n",
       "    }\n",
       "\n",
       "    .dataframe thead th {\n",
       "        text-align: right;\n",
       "    }\n",
       "</style>\n",
       "<table border=\"1\" class=\"dataframe\">\n",
       "  <thead>\n",
       "    <tr style=\"text-align: right;\">\n",
       "      <th></th>\n",
       "      <th>Rang</th>\n",
       "      <th>Politiker</th>\n",
       "      <th>Score</th>\n",
       "      <th>token_count</th>\n",
       "      <th>Inhalt</th>\n",
       "    </tr>\n",
       "  </thead>\n",
       "  <tbody>\n",
       "    <tr>\n",
       "      <th>0</th>\n",
       "      <td>1</td>\n",
       "      <td>Christian Schmidt</td>\n",
       "      <td>0.121</td>\n",
       "      <td>212</td>\n",
       "      <td>Schmidt, der durch einen Sportunfall auf einen Rollstuhl angewiesen war, trat 1965 in die SPD ein. Er zählte zur inoffiziellen Linksfraktion innerhalb der Hamburger SPD und galt als einer der strategischen Köpfe. Als Kandidat der Jungsozialisten wurde er mit einem Drittel der Stimmen in den erweiterten Landesvorstand gewählt. Auf diesem Parteitag hatte es scharfe Auseinandersetzungen zwischen „Rechts“ und „Links“ gegeben. Er war unter anderem Vorsitzender der Kommission Ausländerpolitik und im Landesvorstand für den Bereich „politische Bildung“ zuständig.[2] 1981 trat Schmidt aus der SPD aus. Der eher dem rechten Flügel der Partei zugerechnete SPD-Landesvorsitzende Oswald Paulig bedauerte den Austritt und würdigte die menschlichen Qualitäten von Schmidt.</td>\n",
       "    </tr>\n",
       "    <tr>\n",
       "      <th>1</th>\n",
       "      <td>2</td>\n",
       "      <td>Christian Schmidt</td>\n",
       "      <td>0.014</td>\n",
       "      <td>209</td>\n",
       "      <td>1981 wechselte Schmidt zur Grün-Alternativen Liste (GAL).\\nEr gehörte dem Bundestag in der 10. Legislaturperiode an und war unter anderem Sprecher der grünen Bundestagsfraktion. Allerdings war das Bundeshaus auf Rollstuhlfahrer nicht eingerichtet. Schmidt konnte nicht vor dem Rednerpult sprechen, weil das nicht verstellbar war. Seine Reden konnten nicht, wie üblich, vom Hauskanal übertragen werden, weil die dazugehörende Kamera fest auf das Pult ausgerichtet war. Zusammen mit Jutta Ditfurth und Regina Michalik trat Christian Schmidt im Dezember 1988 als Sprecher der grünen Bundespartei zurück. Grund dafür war die fehlende Unterstützung der Bundesversammlung auf dem außerordentlichen Parteitag in Karlsruhe. Zwei Jahre später verließ er die Partei.</td>\n",
       "    </tr>\n",
       "  </tbody>\n",
       "</table>\n",
       "</div>"
      ],
      "text/plain": [
       "   Rang          Politiker  Score  token_count  \\\n",
       "0     1  Christian Schmidt  0.121          212   \n",
       "1     2  Christian Schmidt  0.014          209   \n",
       "\n",
       "                                                                                                                                                                                                                                                                                                                                                                                                                                                                                                                                                                                                                                                                                                                                                                                         Inhalt  \n",
       "0  Schmidt, der durch einen Sportunfall auf einen Rollstuhl angewiesen war, trat 1965 in die SPD ein. Er zählte zur inoffiziellen Linksfraktion innerhalb der Hamburger SPD und galt als einer der strategischen Köpfe. Als Kandidat der Jungsozialisten wurde er mit einem Drittel der Stimmen in den erweiterten Landesvorstand gewählt. Auf diesem Parteitag hatte es scharfe Auseinandersetzungen zwischen „Rechts“ und „Links“ gegeben. Er war unter anderem Vorsitzender der Kommission Ausländerpolitik und im Landesvorstand für den Bereich „politische Bildung“ zuständig.[2] 1981 trat Schmidt aus der SPD aus. Der eher dem rechten Flügel der Partei zugerechnete SPD-Landesvorsitzende Oswald Paulig bedauerte den Austritt und würdigte die menschlichen Qualitäten von Schmidt.  \n",
       "1          1981 wechselte Schmidt zur Grün-Alternativen Liste (GAL).\\nEr gehörte dem Bundestag in der 10. Legislaturperiode an und war unter anderem Sprecher der grünen Bundestagsfraktion. Allerdings war das Bundeshaus auf Rollstuhlfahrer nicht eingerichtet. Schmidt konnte nicht vor dem Rednerpult sprechen, weil das nicht verstellbar war. Seine Reden konnten nicht, wie üblich, vom Hauskanal übertragen werden, weil die dazugehörende Kamera fest auf das Pult ausgerichtet war. Zusammen mit Jutta Ditfurth und Regina Michalik trat Christian Schmidt im Dezember 1988 als Sprecher der grünen Bundespartei zurück. Grund dafür war die fehlende Unterstützung der Bundesversammlung auf dem außerordentlichen Parteitag in Karlsruhe. Zwei Jahre später verließ er die Partei.  "
      ]
     },
     "metadata": {},
     "output_type": "display_data"
    }
   ],
   "source": [
    "# Beispiel-Query: Bildungsweg\n",
    "top_sections = find_top_k_sections(query_embedding, section_embeddings, chunked_sections, top_k=100)\n",
    "\n",
    "# In DataFrame umwandeln für strukturierte Darstellung\n",
    "df = pd.DataFrame([{\n",
    "    \"Rang\": i+1,\n",
    "    \"Politiker\": result['section']['politician_name'],\n",
    "    \"Score\": f\"{result['similarity']:.3f}\",\n",
    "    \"token_count\": count_tokens(result['section']['section_content']),\n",
    "    \"Inhalt\": result['section']['section_content']\n",
    "} for i, result in enumerate(top_sections)])\n",
    "\n",
    "# Lange Spalteninhalte anzeigen\n",
    "pd.set_option('display.max_colwidth', None)\n",
    "\n",
    "# Anzeige\n",
    "display(df)"
   ]
  },
  {
   "cell_type": "code",
   "execution_count": 11,
   "id": "f249f73e",
   "metadata": {
    "ExecuteTime": {
     "end_time": "2025-08-10T18:23:39.875720Z",
     "start_time": "2025-08-10T18:23:38.689671Z"
    }
   },
   "outputs": [
    {
     "name": "stdout",
     "output_type": "stream",
     "text": [
      "(0, 'Keine Angabe zum Bildungsabschluss (vermutlich falsches Retrieval)', None, 3265, 17, 0)\n"
     ]
    }
   ],
   "source": [
    "biography = df.iloc[0,4] + df.iloc[1,4] #+ df.iloc[2,4]\n",
    "#print(system_prompt)\n",
    "print(text_to_dqr(\"gpt-4.1\", system_prompt, biography))"
   ]
  },
  {
   "cell_type": "code",
   "execution_count": 12,
   "id": "21b8b632",
   "metadata": {
    "ExecuteTime": {
     "end_time": "2025-08-10T18:23:39.891210Z",
     "start_time": "2025-08-10T18:23:39.887743Z"
    }
   },
   "outputs": [
    {
     "data": {
      "text/plain": [
       "'Schmidt, der durch einen Sportunfall auf einen Rollstuhl angewiesen war, trat 1965 in die SPD ein. Er zählte zur inoffiziellen Linksfraktion innerhalb der Hamburger SPD und galt als einer der strategischen Köpfe. Als Kandidat der Jungsozialisten wurde er mit einem Drittel der Stimmen in den erweiterten Landesvorstand gewählt. Auf diesem Parteitag hatte es scharfe Auseinandersetzungen zwischen „Rechts“ und „Links“ gegeben. Er war unter anderem Vorsitzender der Kommission Ausländerpolitik und im Landesvorstand für den Bereich „politische Bildung“ zuständig.[2] 1981 trat Schmidt aus der SPD aus. Der eher dem rechten Flügel der Partei zugerechnete SPD-Landesvorsitzende Oswald Paulig bedauerte den Austritt und würdigte die menschlichen Qualitäten von Schmidt.1981 wechselte Schmidt zur Grün-Alternativen Liste (GAL).\\nEr gehörte dem Bundestag in der 10. Legislaturperiode an und war unter anderem Sprecher der grünen Bundestagsfraktion. Allerdings war das Bundeshaus auf Rollstuhlfahrer nicht eingerichtet. Schmidt konnte nicht vor dem Rednerpult sprechen, weil das nicht verstellbar war. Seine Reden konnten nicht, wie üblich, vom Hauskanal übertragen werden, weil die dazugehörende Kamera fest auf das Pult ausgerichtet war. Zusammen mit Jutta Ditfurth und Regina Michalik trat Christian Schmidt im Dezember 1988 als Sprecher der grünen Bundespartei zurück. Grund dafür war die fehlende Unterstützung der Bundesversammlung auf dem außerordentlichen Parteitag in Karlsruhe. Zwei Jahre später verließ er die Partei.'"
      ]
     },
     "execution_count": 12,
     "metadata": {},
     "output_type": "execute_result"
    }
   ],
   "source": [
    "biography"
   ]
  },
  {
   "cell_type": "code",
   "execution_count": 15,
   "id": "dee81c03e0af8c92",
   "metadata": {
    "ExecuteTime": {
     "end_time": "2025-08-10T18:24:13.563314Z",
     "start_time": "2025-08-10T18:24:09.242856Z"
    }
   },
   "outputs": [
    {
     "name": "stdout",
     "output_type": "stream",
     "text": [
      "Gesamtanzahl Abschnitte: 5\n",
      "Original: 5 Sections\n",
      "Nach Chunking: 5 Sections\n"
     ]
    },
    {
     "name": "stderr",
     "output_type": "stream",
     "text": [
      "Batches: 100%|██████████| 1/1 [00:03<00:00,  3.38s/it]\n"
     ]
    },
    {
     "data": {
      "text/html": [
       "<div>\n",
       "<style scoped>\n",
       "    .dataframe tbody tr th:only-of-type {\n",
       "        vertical-align: middle;\n",
       "    }\n",
       "\n",
       "    .dataframe tbody tr th {\n",
       "        vertical-align: top;\n",
       "    }\n",
       "\n",
       "    .dataframe thead th {\n",
       "        text-align: right;\n",
       "    }\n",
       "</style>\n",
       "<table border=\"1\" class=\"dataframe\">\n",
       "  <thead>\n",
       "    <tr style=\"text-align: right;\">\n",
       "      <th></th>\n",
       "      <th>Rang</th>\n",
       "      <th>Politiker</th>\n",
       "      <th>Score</th>\n",
       "      <th>token_count</th>\n",
       "      <th>Inhalt</th>\n",
       "    </tr>\n",
       "  </thead>\n",
       "  <tbody>\n",
       "    <tr>\n",
       "      <th>0</th>\n",
       "      <td>1</td>\n",
       "      <td>Hans Klein</td>\n",
       "      <td>0.181</td>\n",
       "      <td>13</td>\n",
       "      <td>Seit 1972 war er Mitglied der CSU.</td>\n",
       "    </tr>\n",
       "    <tr>\n",
       "      <th>1</th>\n",
       "      <td>2</td>\n",
       "      <td>Hans Klein</td>\n",
       "      <td>0.164</td>\n",
       "      <td>472</td>\n",
       "      <td>Klein kam 1945 als Heimatvertriebener aus dem Sudetenland nach Heidenheim an der Brenz, wo er die Volks- und Realschule besuchte. Nach der Mittleren Reife absolvierte Klein eine Schriftsetzerlehre sowie ein Zeitungsvolontariat. 1950 erhielt er ein Stipendium für die Fächer Volkswirtschaftslehre und Geschichte am Cooperative College der Universität Leicester in England. Von 1953 bis 1959 war er als Journalist tätig; bis 1956 als Redakteur bei der Heidenheimer Zeitung, daraufhin als Bonner Korrespondent der Nachrichtenagentur DIMITAG (bis 1958) bzw. des Hamburger Abendblatts. 1959 trat er in den Auswärtigen Dienst ein. Er war in dieser Zeit bis 1964 als Presseattaché an den deutschen Botschaften in Jordanien, Syrien, Irak und Indonesien eingesetzt. 1965 wurde er pressepolitischer Referent bei Bundeskanzler Ludwig Erhard. Ab 1968 fungierte er als Pressechef der Olympischen Sommerspiele 1972. Seit 1972 war er als freier Journalist tätig. 1976 verfasste er als Ghostwriter Erhards Memoiren Erfahrungen für die Zukunft. Meine Kanzlerzeit, die dann erst 2024 erschienen.[2] 1990 kandidierte er für den Posten des Münchner Oberbürgermeisters, unterlag jedoch bereits im ersten Wahlgang dem Amtsinhaber Georg Kronawitter deutlich.\\nKlein lebte in München. Am 7. November 1996 erlitt er während einer Fahrt mit dem Nachtzug von München nach Bonn einen Herzinfarkt, in dessen Folge er trotz unverzüglicher ärztlicher Versorgung ins Koma fiel und am 26. November 1996 verstarb.\\nKlein war verheiratet und hatte drei Kinder. Seine Grabstätte befindet sich auf dem Friedhof Bernau am Chiemsee.</td>\n",
       "    </tr>\n",
       "    <tr>\n",
       "      <th>2</th>\n",
       "      <td>3</td>\n",
       "      <td>Hans Klein</td>\n",
       "      <td>0.156</td>\n",
       "      <td>55</td>\n",
       "      <td>Seit 2002 ist eine Straße im Münchner Stadtteil Sendling nach ihm benannt. Klein war Träger des Bundesverdienstkreuzes, des Bayerischen Verdienstordens und zahlreicher ausländischer Orden.</td>\n",
       "    </tr>\n",
       "    <tr>\n",
       "      <th>3</th>\n",
       "      <td>4</td>\n",
       "      <td>Hans Klein</td>\n",
       "      <td>0.084</td>\n",
       "      <td>374</td>\n",
       "      <td>Hans Klein zwischen Theo Waigel und Helmut Kohl am 18. November 1989 auf dem CSU-Parteitag in München\\nNach der Bundestagswahl 1987 wurde er am 12. März 1987 als Bundesminister für wirtschaftliche Zusammenarbeit in die von Bundeskanzler Helmut Kohl geführte Bundesregierung berufen. Nach der Kabinettsumbildung im Frühjahr 1989 übernahm er am 21. April 1989 im Range eines Bundesministers für besondere Aufgaben die Leitung des Presse- und Informationsamtes der Bundesregierung. Nach der Bundestagswahl 1990 schied er im Dezember 1990 aus der Bundesregierung aus und übernahm bis zu seinem Tode das Amt eines Vizepräsidenten des Deutschen Bundestages.\\nAls Sprecher der Bundesregierung vertrat Bundesminister Klein die Ansicht, die Angehörigen der Waffen-SS hätten schlicht geglaubt, ihr Vaterland verteidigen zu müssen. Die in einem Interview mit der Boulevard-Zeitschrift Quick am 2. Mai 1989 geäußerte Meinung wiederholte er bei der nächsten Pressekonferenz.[3] Dies löste zwei Anträge von den Fraktionen der SPD und der Grünen aus, die im Wesentlichen eine Missbilligung von Kleins Äußerungen durch den Bundestag erwarteten. Die Debatte darüber wurde am 15. Juni 1989 im Plenum geführt. Klein entschuldigte sich dabei nicht; die Anträge der Opposition wurden in nicht-namentlicher Abstimmung abgelehnt.[4]</td>\n",
       "    </tr>\n",
       "    <tr>\n",
       "      <th>4</th>\n",
       "      <td>5</td>\n",
       "      <td>Hans Klein</td>\n",
       "      <td>0.069</td>\n",
       "      <td>44</td>\n",
       "      <td>1971 war er als NOK-Pressechef in Kurt Wilhelms Fernsehkomödie Olympia-Olympia neben Beppo Brem, Joachim Fuchsberger und Helga Anders zu sehen.</td>\n",
       "    </tr>\n",
       "  </tbody>\n",
       "</table>\n",
       "</div>"
      ],
      "text/plain": [
       "   Rang   Politiker  Score  token_count  \\\n",
       "0     1  Hans Klein  0.181           13   \n",
       "1     2  Hans Klein  0.164          472   \n",
       "2     3  Hans Klein  0.156           55   \n",
       "3     4  Hans Klein  0.084          374   \n",
       "4     5  Hans Klein  0.069           44   \n",
       "\n",
       "                                                                                                                                                                                                                                                                                                                                                                                                                                                                                                                                                                                                                                                                                                                                                                                                                                                                                                                                                                                                                                                                                                                                                                                                                                                                                                                                                                                                                                                                                                                                                                                                                                                      Inhalt  \n",
       "0                                                                                                                                                                                                                                                                                                                                                                                                                                                                                                                                                                                                                                                                                                                                                                                                                                                                                                                                                                                                                                                                                                                                                                                                                                                                                                                                                                                                                                                                                                                                                                                                                         Seit 1972 war er Mitglied der CSU.  \n",
       "1  Klein kam 1945 als Heimatvertriebener aus dem Sudetenland nach Heidenheim an der Brenz, wo er die Volks- und Realschule besuchte. Nach der Mittleren Reife absolvierte Klein eine Schriftsetzerlehre sowie ein Zeitungsvolontariat. 1950 erhielt er ein Stipendium für die Fächer Volkswirtschaftslehre und Geschichte am Cooperative College der Universität Leicester in England. Von 1953 bis 1959 war er als Journalist tätig; bis 1956 als Redakteur bei der Heidenheimer Zeitung, daraufhin als Bonner Korrespondent der Nachrichtenagentur DIMITAG (bis 1958) bzw. des Hamburger Abendblatts. 1959 trat er in den Auswärtigen Dienst ein. Er war in dieser Zeit bis 1964 als Presseattaché an den deutschen Botschaften in Jordanien, Syrien, Irak und Indonesien eingesetzt. 1965 wurde er pressepolitischer Referent bei Bundeskanzler Ludwig Erhard. Ab 1968 fungierte er als Pressechef der Olympischen Sommerspiele 1972. Seit 1972 war er als freier Journalist tätig. 1976 verfasste er als Ghostwriter Erhards Memoiren Erfahrungen für die Zukunft. Meine Kanzlerzeit, die dann erst 2024 erschienen.[2] 1990 kandidierte er für den Posten des Münchner Oberbürgermeisters, unterlag jedoch bereits im ersten Wahlgang dem Amtsinhaber Georg Kronawitter deutlich.\\nKlein lebte in München. Am 7. November 1996 erlitt er während einer Fahrt mit dem Nachtzug von München nach Bonn einen Herzinfarkt, in dessen Folge er trotz unverzüglicher ärztlicher Versorgung ins Koma fiel und am 26. November 1996 verstarb.\\nKlein war verheiratet und hatte drei Kinder. Seine Grabstätte befindet sich auf dem Friedhof Bernau am Chiemsee.  \n",
       "2                                                                                                                                                                                                                                                                                                                                                                                                                                                                                                                                                                                                                                                                                                                                                                                                                                                                                                                                                                                                                                                                                                                                                                                                                                                                                                                                                                                                                                                               Seit 2002 ist eine Straße im Münchner Stadtteil Sendling nach ihm benannt. Klein war Träger des Bundesverdienstkreuzes, des Bayerischen Verdienstordens und zahlreicher ausländischer Orden.  \n",
       "3                                                                                                                                                                                                                                                                                              Hans Klein zwischen Theo Waigel und Helmut Kohl am 18. November 1989 auf dem CSU-Parteitag in München\\nNach der Bundestagswahl 1987 wurde er am 12. März 1987 als Bundesminister für wirtschaftliche Zusammenarbeit in die von Bundeskanzler Helmut Kohl geführte Bundesregierung berufen. Nach der Kabinettsumbildung im Frühjahr 1989 übernahm er am 21. April 1989 im Range eines Bundesministers für besondere Aufgaben die Leitung des Presse- und Informationsamtes der Bundesregierung. Nach der Bundestagswahl 1990 schied er im Dezember 1990 aus der Bundesregierung aus und übernahm bis zu seinem Tode das Amt eines Vizepräsidenten des Deutschen Bundestages.\\nAls Sprecher der Bundesregierung vertrat Bundesminister Klein die Ansicht, die Angehörigen der Waffen-SS hätten schlicht geglaubt, ihr Vaterland verteidigen zu müssen. Die in einem Interview mit der Boulevard-Zeitschrift Quick am 2. Mai 1989 geäußerte Meinung wiederholte er bei der nächsten Pressekonferenz.[3] Dies löste zwei Anträge von den Fraktionen der SPD und der Grünen aus, die im Wesentlichen eine Missbilligung von Kleins Äußerungen durch den Bundestag erwarteten. Die Debatte darüber wurde am 15. Juni 1989 im Plenum geführt. Klein entschuldigte sich dabei nicht; die Anträge der Opposition wurden in nicht-namentlicher Abstimmung abgelehnt.[4]  \n",
       "4                                                                                                                                                                                                                                                                                                                                                                                                                                                                                                                                                                                                                                                                                                                                                                                                                                                                                                                                                                                                                                                                                                                                                                                                                                                                                                                                                                                                                                                                                                            1971 war er als NOK-Pressechef in Kurt Wilhelms Fernsehkomödie Olympia-Olympia neben Beppo Brem, Joachim Fuchsberger und Helga Anders zu sehen.  "
      ]
     },
     "metadata": {},
     "output_type": "display_data"
    },
    {
     "name": "stdout",
     "output_type": "stream",
     "text": [
      "(4, 'Mittlere Reife und Schriftsetzerlehre', 5, 3688, 15, 2816)\n"
     ]
    }
   ],
   "source": [
    "# Schnelle Ausführung:\n",
    "person = next(item for item in data if item[\"ID\"] == \"#002\")\n",
    "example_sections = extract_content_sections(person)\n",
    "chunked_sections = chunk_content_sections(example_sections)\n",
    "print(f\"Original: {len(example_sections)} Sections\")\n",
    "print(f\"Nach Chunking: {len(chunked_sections)} Sections\")\n",
    "section_embeddings = embed_sections(chunked_sections, model)\n",
    "top_sections = find_top_k_sections(query_embedding, section_embeddings, chunked_sections, top_k=100)\n",
    "\n",
    "# In DataFrame umwandeln für strukturierte Darstellung\n",
    "df = pd.DataFrame([{\n",
    "    \"Rang\": i+1,\n",
    "    \"Politiker\": result['section']['politician_name'],\n",
    "    \"Score\": f\"{result['similarity']:.3f}\",\n",
    "    \"token_count\": count_tokens(result['section']['section_content']),\n",
    "    \"Inhalt\": result['section']['section_content']\n",
    "} for i, result in enumerate(top_sections)])\n",
    "\n",
    "# Lange Spalteninhalte anzeigen\n",
    "pd.set_option('display.max_colwidth', None)\n",
    "\n",
    "# Anzeige\n",
    "display(df)\n",
    "\n",
    "biography = df.iloc[0,4] + df.iloc[1,4] + df.iloc[2,4] + df.iloc[3,4] #+ df.iloc[4,4] + df.iloc[5,4]\n",
    "#print(system_prompt)\n",
    "print(text_to_dqr(\"gpt-4.1\", system_prompt, biography))"
   ]
  },
  {
   "cell_type": "code",
   "execution_count": 14,
   "id": "251c5dc6cd007ae5",
   "metadata": {
    "ExecuteTime": {
     "end_time": "2025-08-10T18:24:04.246247Z",
     "start_time": "2025-08-10T18:24:02.576965Z"
    }
   },
   "outputs": [],
   "source": [
    "dqr_predict, comment_predict, confidence_score, prompt_tokens, completion_tokens, cached_tokens = text_to_dqr(\"gpt-4.1\", system_prompt, biography)"
   ]
  }
 ],
 "metadata": {
  "kernelspec": {
   "display_name": ".venv",
   "language": "python",
   "name": "python3"
  },
  "language_info": {
   "codemirror_mode": {
    "name": "ipython",
    "version": 3
   },
   "file_extension": ".py",
   "mimetype": "text/x-python",
   "name": "python",
   "nbconvert_exporter": "python",
   "pygments_lexer": "ipython3",
   "version": "3.9.6"
  }
 },
 "nbformat": 4,
 "nbformat_minor": 5
}
