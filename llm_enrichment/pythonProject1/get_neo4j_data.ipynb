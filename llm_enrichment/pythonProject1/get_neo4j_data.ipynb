{
 "cells": [
  {
   "cell_type": "code",
   "execution_count": 27,
   "id": "3c26e46a",
   "metadata": {},
   "outputs": [],
   "source": [
    "# Imports für Neo4j-Verbindung und Datenverarbeitung\n",
    "from neo4j import GraphDatabase\n",
    "import pandas as pd\n",
    "import json\n",
    "from typing import List, Dict, Any\n",
    "import logging\n",
    "\n",
    "# Logging konfigurieren\n",
    "logging.basicConfig(level=logging.INFO)\n",
    "logger = logging.getLogger(__name__)\n",
    "\n",
    "class Neo4jConnector:\n",
    "    def __init__(self, uri: str, user: str, password: str):\n",
    "        self.driver = GraphDatabase.driver(uri, auth=(user, password))\n",
    "        \n",
    "    def close(self):\n",
    "        self.driver.close()\n",
    "        \n",
    "    def test_connection(self):\n",
    "        \"\"\"Testet die Verbindung zur Neo4j-Datenbank\"\"\"\n",
    "        try:\n",
    "            with self.driver.session() as session:\n",
    "                result = session.run(\"RETURN 1 as test\")\n",
    "                return result.single()[\"test\"] == 1\n",
    "        except Exception as e:\n",
    "            logger.error(f\"Verbindungsfehler: {e}\")\n",
    "            return False"
   ]
  },
  {
   "cell_type": "code",
   "execution_count": null,
   "id": "b57a8bc7",
   "metadata": {},
   "outputs": [
    {
     "name": "stdout",
     "output_type": "stream",
     "text": [
      "✅ Verbindung zu Neo4j erfolgreich!\n"
     ]
    }
   ],
   "source": [
    "# Neo4j-Verbindungsdaten (anpassen an deine lokale Konfiguration)\n",
    "NEO4J_URI = \"bolt://localhost:7687\"\n",
    "NEO4J_USER = \"neo4j\"\n",
    "NEO4J_PASSWORD = \"bundestag_password\" \n",
    "\n",
    "# Verbindung erstellen und testen\n",
    "connector = Neo4jConnector(NEO4J_URI, NEO4J_USER, NEO4J_PASSWORD)\n",
    "\n",
    "if connector.test_connection():\n",
    "    print(\"✅ Verbindung zu Neo4j erfolgreich!\")\n",
    "else:\n",
    "    print(\"❌ Verbindung zu Neo4j fehlgeschlagen!\")"
   ]
  },
  {
   "cell_type": "code",
   "execution_count": 35,
   "id": "2dd1329f",
   "metadata": {},
   "outputs": [],
   "source": [
    "def get_random_politician_with_content(self, limit: int = 1) -> List[Dict[str, Any]]:\n",
    "    \"\"\"Lädt einen zufälligen Politiker mit allen seinen Content-Nodes\"\"\"\n",
    "    query = \"\"\"\n",
    "    MATCH (p:Politician)\n",
    "    OPTIONAL MATCH (p)-[:HAS_CONTENT]->(c:Content)\n",
    "    RETURN p, \n",
    "           collect(DISTINCT {\n",
    "               id: c.id,\n",
    "               section_header: c.section_header,\n",
    "               section_content: c.section_content\n",
    "           }) as contents\n",
    "    ORDER BY rand()\n",
    "    LIMIT $limit\n",
    "    \"\"\"\n",
    "    \n",
    "    try:\n",
    "        with self.driver.session() as session:\n",
    "            result = session.run(query, limit=limit)\n",
    "            politicians = []\n",
    "            for record in result:\n",
    "                politician = dict(record[\"p\"])\n",
    "                politician[\"contents\"] = record[\"contents\"]\n",
    "                politicians.append(politician)\n",
    "            return politicians\n",
    "    except Exception as e:\n",
    "        logger.error(f\"Fehler beim Laden der Politiker mit Content: {e}\")\n",
    "        return []\n",
    "    \n",
    "# Methode zur Klasse hinzufügen\n",
    "Neo4jConnector.get_random_politician_with_content = get_random_politician_with_content"
   ]
  },
  {
   "cell_type": "code",
   "execution_count": 36,
   "id": "c34cab67",
   "metadata": {},
   "outputs": [
    {
     "name": "stdout",
     "output_type": "stream",
     "text": [
      "🎯 Politiker: N/A\n",
      "📊 Anzahl Content-Nodes: 4\n",
      "\n",
      "📝 Content 1:\n",
      "  Header: Einzelnachweise\n",
      "  Content: ↑ a b \"In der großen Politik muss man dem Leben abschwören\", 16. März 2019, Freie Presse ↑ a b Katharina Naumann: Die Geschichte meiner Familie. 2016....\n",
      "  ID: 07e97aa97c3cd7bec465650c8e8dfe5acce55ddd\n",
      "\n",
      "📝 Content 2:\n",
      "  Header: Weblink\n",
      "  Content: Helga Otto im Archiv der sozialen Demokratie...\n",
      "  ID: e5f9bc3c8f7a76f8d95bad9bfa511b3855b20aeb\n",
      "\n",
      "📝 Content 3:\n",
      "  Header: Leben\n",
      "  Content: Helga Otto wuchs in Bad Dürrenberg, Nerchau und Auschwitz auf. Im Zuge der Aktion Ossawakim – ihr Vater war eine der betroffenen Fachkräfte – wurde si...\n",
      "  ID: f3b82cb04f61ffff27ea41a994e4e98ade611e32\n",
      "\n",
      "📝 Content 4:\n",
      "  Header: #\n",
      "  Content: Helga Otto (* 28. November 1938 in Leipzig)[1] ist eine deutsche Politikerin (SPD)....\n",
      "  ID: 1382e3c6e760a7ba66e1272c7ebf71736fe7b1d3\n"
     ]
    }
   ],
   "source": [
    "# Zufälligen Politiker laden\n",
    "# Politiker mit Content laden\n",
    "politician_with_content = connector.get_random_politician_with_content(limit=1)\n",
    "\n",
    "if politician_with_content:\n",
    "    politician = politician_with_content[0]\n",
    "    print(f\"🎯 Politiker: {politician.get('name', 'N/A')}\")\n",
    "    print(f\"📊 Anzahl Content-Nodes: {len(politician['contents'])}\")\n",
    "    \n",
    "    # Alle Content-Nodes durchgehen\n",
    "    for i, content in enumerate(politician['contents']):\n",
    "        print(f\"\\n📝 Content {i+1}:\")\n",
    "        print(f\"  Header: {content.get('section_header', 'N/A')}\")\n",
    "        print(f\"  Content: {content.get('section_content', 'N/A')[:150]}...\")\n",
    "        print(f\"  ID: {content.get('id', 'N/A')}\")\n",
    "        \n",
    "    # Politiker für weitere Verarbeitung speichern\n",
    "    sample_politician_with_content = politician\n",
    "else:\n",
    "    print(\"❌ Kein Politiker gefunden!\")"
   ]
  },
  {
   "cell_type": "code",
   "execution_count": 46,
   "id": "ca859e3a",
   "metadata": {},
   "outputs": [],
   "source": [
    "def export_all_politicians_with_content(self, output_file: str = \"testdata/neo4j_data_politicians.json\"):\n",
    "    \"\"\"Exportiert alle Politiker mit Content direkt aus Neo4j\"\"\"\n",
    "    query = \"\"\"\n",
    "    MATCH (p:Politician)\n",
    "    OPTIONAL MATCH (p)-[:HAS_CONTENT]->(c:Content)\n",
    "    RETURN p, \n",
    "           collect(DISTINCT {\n",
    "               content_id: c.id,\n",
    "               section_header: c.section_header,\n",
    "               section_content: c.section_content\n",
    "           }) as neo4j_content\n",
    "    \"\"\"\n",
    "    \n",
    "    try:\n",
    "        with self.driver.session() as session:\n",
    "            result = session.run(query)\n",
    "            politicians = []\n",
    "            \n",
    "            for record in result:\n",
    "                # Alle Politiker-Eigenschaften übernehmen\n",
    "                politician = dict(record[\"p\"])\n",
    "                \n",
    "                # Neo4j interne Element-ID als eindeutige ID hinzufügen\n",
    "                politician[\"neo4j_element_id\"] = record[\"p\"].element_id\n",
    "                \n",
    "                # Content hinzufügen\n",
    "                politician[\"neo4j_content\"] = record[\"neo4j_content\"]\n",
    "                politicians.append(politician)\n",
    "            \n",
    "            # JSON speichern\n",
    "            with open(output_file, 'w', encoding='utf-8') as f:\n",
    "                json.dump(politicians, f, ensure_ascii=False, indent=2)\n",
    "            \n",
    "            print(f\"✅ {len(politicians)} Politiker in {output_file} exportiert\")\n",
    "            return output_file\n",
    "            \n",
    "    except Exception as e:\n",
    "        logger.error(f\"Fehler beim Export: {e}\")\n",
    "        return None\n",
    "\n",
    "# Methode zur Klasse hinzufügen\n",
    "Neo4jConnector.export_all_politicians_with_content = export_all_politicians_with_content"
   ]
  },
  {
   "cell_type": "code",
   "execution_count": 47,
   "id": "f690d841",
   "metadata": {},
   "outputs": [
    {
     "name": "stdout",
     "output_type": "stream",
     "text": [
      "✅ 4465 Politiker in testdata/neo4j_data_politicians.json exportiert\n",
      "✅ Export erfolgreich: testdata/neo4j_data_politicians.json\n",
      "�� Datei gespeichert: 35.42 MB\n",
      "🎯 Erster Politiker:\n",
      "  Alle Eigenschaften: ['detail_page', 'firstname', 'full_name', 'death_year', 'birth_year', 'lastname', 'neo4j_element_id', 'neo4j_content']\n",
      "  ID: N/A\n",
      "  Name: Gerhart Baum\n",
      "  Content-Nodes: 10\n"
     ]
    }
   ],
   "source": [
    "# Alle Politiker mit Content exportieren\n",
    "output_file = connector.export_all_politicians_with_content(\"testdata/neo4j_data_politicians.json\")\n",
    "\n",
    "if output_file:\n",
    "    print(f\"✅ Export erfolgreich: {output_file}\")\n",
    "    \n",
    "    # Überprüfen der gespeicherten Datei\n",
    "    import os\n",
    "    if os.path.exists(output_file):\n",
    "        file_size = os.path.getsize(output_file) / (1024 * 1024)  # MB\n",
    "        print(f\"�� Datei gespeichert: {file_size:.2f} MB\")\n",
    "    else:\n",
    "        print(\"❌ Datei wurde nicht gefunden!\")\n",
    "\n",
    "    with open(output_file, 'r', encoding='utf-8') as f:\n",
    "        politicians = json.load(f)\n",
    "    \n",
    "    if politicians:\n",
    "        first_politician = politicians[0]\n",
    "        print(f\"🎯 Erster Politiker:\")\n",
    "        print(f\"  Alle Eigenschaften: {list(first_politician.keys())}\")\n",
    "        print(f\"  ID: {first_politician.get('id', 'N/A')}\")\n",
    "        print(f\"  Name: {first_politician.get('full_name', 'N/A')}\")\n",
    "        print(f\"  Content-Nodes: {len(first_politician.get('neo4j_content', []))}\")\n",
    "else:\n",
    "    print(\"❌ Export fehlgeschlagen!\")"
   ]
  },
  {
   "cell_type": "code",
   "execution_count": 9,
   "id": "d6df3a9e",
   "metadata": {},
   "outputs": [
    {
     "name": "stdout",
     "output_type": "stream",
     "text": [
      "✅ Neo4j-Verbindung erfolgreich geschlossen\n",
      "🔒 Cleanup abgeschlossen\n"
     ]
    }
   ],
   "source": [
    "# Neo4j-Verbindung sauber schließen\n",
    "try:\n",
    "    connector.close()\n",
    "    print(\"✅ Neo4j-Verbindung erfolgreich geschlossen\")\n",
    "except Exception as e:\n",
    "    print(f\"⚠️ Fehler beim Schließen der Verbindung: {e}\")\n",
    "finally:\n",
    "    print(\"🔒 Cleanup abgeschlossen\")"
   ]
  }
 ],
 "metadata": {
  "kernelspec": {
   "display_name": ".venv",
   "language": "python",
   "name": "python3"
  },
  "language_info": {
   "codemirror_mode": {
    "name": "ipython",
    "version": 3
   },
   "file_extension": ".py",
   "mimetype": "text/x-python",
   "name": "python",
   "nbconvert_exporter": "python",
   "pygments_lexer": "ipython3",
   "version": "3.9.6"
  }
 },
 "nbformat": 4,
 "nbformat_minor": 5
}
